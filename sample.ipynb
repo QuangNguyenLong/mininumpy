{
 "cells": [
  {
   "cell_type": "code",
   "execution_count": null,
   "id": "6a377635",
   "metadata": {},
   "outputs": [],
   "source": [
    "from PIL import Image\n",
    "import mininumpy as mnp\n",
    "import numpy as np"
   ]
  },
  {
   "cell_type": "code",
   "execution_count": null,
   "id": "54321ff2",
   "metadata": {},
   "outputs": [],
   "source": [
    "def read_image(path):\n",
    "    img = Image.open(path).convert(\"RGB\")\n",
    "    w, h = img.size\n",
    "    data = list(img.getdata())  # [(R,G,B), ...]\n",
    "\n",
    "    # Separate channels\n",
    "    R = [p[0] for p in data]\n",
    "    G = [p[1] for p in data]\n",
    "    B = [p[2] for p in data]\n",
    "\n",
    "    # Concatenate in channel-major order\n",
    "    flat = R + G + B\n",
    "\n",
    "    # Now shape is (3, h, w)\n",
    "    return mnp.Array(flat, shape=(3, h, w))\n",
    "\n",
    "def save_image(array, path):\n",
    "    if not isinstance(array, mnp.Array) or not isinstance(array, np.array):\n",
    "        raise TypeError(\"Expected an Array or np.array instance.\")\n",
    "    if array.shape[0] != 3:\n",
    "        raise ValueError(f\"Expected shape (3, h, w), got {array.shape}\")\n",
    "\n",
    "    c, h, w = array.shape\n",
    "    data = array._data\n",
    "\n",
    "    # Split channels\n",
    "    size_per_channel = h * w\n",
    "    R = data[0 * size_per_channel : 1 * size_per_channel]\n",
    "    G = data[1 * size_per_channel : 2 * size_per_channel]\n",
    "    B = data[2 * size_per_channel : 3 * size_per_channel]\n",
    "\n",
    "    # Interleave pixel-wise (R0,G0,B0, R1,G1,B1, ...)\n",
    "    pixels = [(R[i], G[i], B[i]) for i in range(size_per_channel)]\n",
    "\n",
    "    # Create and save image\n",
    "    img = Image.new(\"RGB\", (w, h))\n",
    "    img.putdata(pixels)\n",
    "    img.save(path)"
   ]
  },
  {
   "cell_type": "code",
   "execution_count": null,
   "id": "af244067",
   "metadata": {},
   "outputs": [],
   "source": [
    "\n",
    "image = read_image('./sample.jpg')\n",
    "grey = mnp.Array([(0.299 * image[0] + 0.587 * image[1] + 0.114 * image[2])._data for _ in range(image.shape[0])], \n",
    "             shape = image.shape, element_type=int)\n",
    "save_image(grey, './grey.jpg')"
   ]
  }
 ],
 "metadata": {
  "kernelspec": {
   "display_name": ".venv",
   "language": "python",
   "name": "python3"
  },
  "language_info": {
   "codemirror_mode": {
    "name": "ipython",
    "version": 3
   },
   "file_extension": ".py",
   "mimetype": "text/x-python",
   "name": "python",
   "nbconvert_exporter": "python",
   "pygments_lexer": "ipython3",
   "version": "3.13.7"
  }
 },
 "nbformat": 4,
 "nbformat_minor": 5
}
